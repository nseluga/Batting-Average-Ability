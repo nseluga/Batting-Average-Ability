{
  "cells": [
    {
      "cell_type": "code",
      "execution_count": 39,
      "metadata": {},
      "outputs": [
        {
          "name": "stdout",
          "output_type": "stream",
          "text": [
            "total entries: 214\n",
            "Hernández, Teoscar 0.272\n",
            "Kirk, Alejandro 0.285\n",
            "Cron, C.J. 0.257\n",
            "Witt Jr., Bobby 0.332\n",
            "Nimmo, Brandon 0.224\n"
          ]
        }
      ],
      "source": [
        "import pandas as pd\n",
        "\n",
        "# [Replace csv path with your github repo path]\n",
        "csv_path = '/Users/orionroven/Documents/github/Batting-Average-Ability/2023-2025_hitting_stats.csv'\n",
        "file = pd.read_csv(csv_path)\n",
        "\n",
        "name_col = 'last_name, first_name'\n",
        "avg_col = 'batting_avg'\n",
        "\n",
        "# Build dictionary: \"last_name, first_name\" -> batting average (numeric)\n",
        "player_to_avg = {}\n",
        "for i in range(len(file)):\n",
        "    name = file.loc[i, name_col]\n",
        "    try:\n",
        "        avg = float(file.loc[i, avg_col])\n",
        "    except (ValueError, TypeError):\n",
        "        avg = None\n",
        "    player_to_avg[name] = avg\n",
        "\n",
        "# Print 5 entries\n",
        "print(\"total entries: \" + str(len(player_to_avg)))\n",
        "ctr = 0\n",
        "for i, j in [(i, j) for i, j in player_to_avg.items()]:\n",
        "    if ctr < 5:\n",
        "        print(i, j)\n",
        "    else:\n",
        "        break\n",
        "    ctr += 1\n"
      ]
    }
  ],
  "metadata": {
    "kernelspec": {
      "display_name": "Python 3",
      "language": "python",
      "name": "python3"
    },
    "language_info": {
      "codemirror_mode": {
        "name": "ipython",
        "version": 3
      },
      "file_extension": ".py",
      "mimetype": "text/x-python",
      "name": "python",
      "nbconvert_exporter": "python",
      "pygments_lexer": "ipython3",
      "version": "3.11.5"
    }
  },
  "nbformat": 4,
  "nbformat_minor": 2
}
