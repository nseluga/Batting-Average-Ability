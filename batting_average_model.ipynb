{
 "cells": [
  {
   "cell_type": "code",
   "execution_count": 5,
   "id": "eef2da3d",
   "metadata": {},
   "outputs": [
    {
     "name": "stdout",
     "output_type": "stream",
     "text": [
      "(1385, 321)\n",
      "    IDfg  Season              Name Team  Age    G   AB   PA    H   1B  ...  \\\n",
      "0  15640    2022       Aaron Judge  NYY   30  157  570  696  177   87  ...   \n",
      "1   9777    2022     Nolan Arenado  STL   31  148  557  620  163   90  ...   \n",
      "2  11493    2022     Manny Machado  SDP   29  150  578  644  172  102  ...   \n",
      "3   5417    2022       Jose Altuve  HOU   32  141  527  604  158   91  ...   \n",
      "4   9218    2022  Paul Goldschmidt  STL   34  151  561  651  178  102  ...   \n",
      "\n",
      "   HardHit  HardHit%  Events  CStr%   CSW%    xBA   xSLG  xwOBA  L-WAR  season  \n",
      "0      247     0.611     404  0.169  0.287  0.305  0.706  0.463   11.4    2022  \n",
      "1      190     0.389     489  0.155  0.241  0.266  0.445  0.339    7.1    2022  \n",
      "2      219     0.490     447  0.126  0.243  0.264  0.447  0.338    7.4    2022  \n",
      "3      131     0.297     441  0.173  0.240  0.269  0.440  0.354    6.6    2022  \n",
      "4      201     0.472     426  0.196  0.295  0.261  0.482  0.367    7.0    2022  \n",
      "\n",
      "[5 rows x 321 columns]\n"
     ]
    }
   ],
   "source": [
    "from pybaseball import batting_stats\n",
    "import pandas as pd\n",
    "\n",
    "# Define the seasons you want\n",
    "years = [2022, 2023, 2024]\n",
    "\n",
    "# Download and combine data for all years\n",
    "dfs = []\n",
    "for year in years:\n",
    "    df_year = batting_stats(year, qual=100)\n",
    "    df_year[\"season\"] = year\n",
    "    dfs.append(df_year)\n",
    "\n",
    "# Combine into one DataFrame\n",
    "df_all = pd.concat(dfs, ignore_index=True)\n",
    "\n",
    "# Preview and save\n",
    "print(df_all.shape)\n",
    "print(df_all.head())"
   ]
  }
 ],
 "metadata": {
  "kernelspec": {
   "display_name": ".venv",
   "language": "python",
   "name": "python3"
  },
  "language_info": {
   "codemirror_mode": {
    "name": "ipython",
    "version": 3
   },
   "file_extension": ".py",
   "mimetype": "text/x-python",
   "name": "python",
   "nbconvert_exporter": "python",
   "pygments_lexer": "ipython3",
   "version": "3.13.4"
  }
 },
 "nbformat": 4,
 "nbformat_minor": 5
}
